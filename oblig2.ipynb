{
 "cells": [
  {
   "cell_type": "code",
   "execution_count": 1,
   "metadata": {
    "collapsed": false
   },
   "outputs": [
    {
     "name": "stdout",
     "output_type": "stream",
     "text": [
      "    Time           y\n",
      "--------  ----------\n",
      "0           0\n",
      "0.203874   -0.165138\n",
      "0.407747   -0.738022\n",
      "0.611621   -1.71865\n",
      "0.815494   -3.10703\n",
      "1.01937    -4.90316\n",
      "1.22324    -7.10703\n",
      "1.42712    -9.71865\n",
      "1.63099   -12.738\n",
      "1.83486   -16.1651\n",
      "2.03874   -20\n"
     ]
    }
   ],
   "source": [
    "# Exercise 2.8 ball_table1\n",
    "\n",
    "import numpy as np\n",
    "from tabulate import tabulate\n",
    "\n",
    "g = 9.81 \n",
    "v0 = 10\n",
    "n = 10\n",
    "\n",
    "t = np.linspace(0,2*v0/g,n+1)\n",
    "y = np.zeros(n+1)\n",
    "\n",
    "def ym(t):\n",
    "    return v0*t-g*t-0.5*g*t**2\n",
    "\n",
    "# ym(t)   # It wouldn't really be necessart with a for loop the way I have done it....\n",
    "\n",
    "for i in range(len(t)):\n",
    "    y[i] = ym(t[i])\n",
    "    \n",
    "# Let's make a table \n",
    "\n",
    "table = zip(t,y)\n",
    "\n",
    "print tabulate(table, headers = [\"Time\", \"y\"])"
   ]
  },
  {
   "cell_type": "code",
   "execution_count": 2,
   "metadata": {
    "collapsed": false
   },
   "outputs": [
    {
     "name": "stdout",
     "output_type": "stream",
     "text": [
      "[1, 3, 5, 7, 11, 13, 17]\n",
      "[2, 4, 6, 8, 12]\n",
      "[0, 18]\n",
      "0\n",
      "18\n",
      "2\n",
      "20\n",
      "4\n",
      "22\n",
      "6\n",
      "24\n",
      "10\n",
      "28\n"
     ]
    }
   ],
   "source": [
    "a = [1, 3, 5, 7, 11] #creates an array\n",
    "b = [13, 17] # creates an array\n",
    "c = a + b # Adds the array b to the array a\n",
    "print c # and prints it\n",
    "b[0] = -1 # Set the first value in b to -1\n",
    "d = [e +1 for e in a] # creates a new array which is equal to a, but each value has been added with 1\n",
    "print d # and prints it\n",
    "d.append(b[0] + 1) # adds an entry in the array of d, which is equal to the value of b's first entry added with 1\n",
    "d.append(b[-1] + 1) # adds an entry in the array of d, which is equal to the value of b's last entry added with 1\n",
    "print d[-2:] # prints the two last entries in d\n",
    "for e1 in a: # this for loop goes through the entries in a\n",
    "    for e2 in b: # this loop goes through the entries in b\n",
    "        print e1 + e2 # here the entries which we are at in the loops will be added together and printed\n",
    "    "
   ]
  },
  {
   "cell_type": "code",
   "execution_count": null,
   "metadata": {
    "collapsed": false
   },
   "outputs": [],
   "source": []
  },
  {
   "cell_type": "code",
   "execution_count": null,
   "metadata": {
    "collapsed": true
   },
   "outputs": [],
   "source": []
  }
 ],
 "metadata": {
  "kernelspec": {
   "display_name": "Python 2",
   "language": "python",
   "name": "python2"
  },
  "language_info": {
   "codemirror_mode": {
    "name": "ipython",
    "version": 2
   },
   "file_extension": ".py",
   "mimetype": "text/x-python",
   "name": "python",
   "nbconvert_exporter": "python",
   "pygments_lexer": "ipython2",
   "version": "2.7.12"
  }
 },
 "nbformat": 4,
 "nbformat_minor": 1
}
