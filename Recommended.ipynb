{
 "cells": [
  {
   "cell_type": "code",
   "execution_count": 13,
   "metadata": {
    "collapsed": false
   },
   "outputs": [
    {
     "name": "stdout",
     "output_type": "stream",
     "text": [
      "The area of the parallelogram is 10.000\n",
      "The are of the square is 4\n",
      "The are of the circle is 7.069\n",
      "The volume of a cone is 11.781\n"
     ]
    }
   ],
   "source": [
    "from math import pi\n",
    "\n",
    "h = 5.0 # height\n",
    "b = 2.0 # base\n",
    "r = 1.5 # radius\n",
    "\n",
    "area_parallelogram = h*b\n",
    "print 'The area of the parallelogram is %.3f' %area_parallelogram\n",
    "\n",
    "area_square = b**2\n",
    "print 'The are of the square is %g' %area_square\n",
    "\n",
    "area_circle = pi*r**2\n",
    "print 'The are of the circle is %.3f' %area_circle\n",
    "\n",
    "volume_cone = 1.0/3*pi*r**2*h\n",
    "print 'The volume of a cone is %.3f' %volume_cone"
   ]
  },
  {
   "cell_type": "code",
   "execution_count": 17,
   "metadata": {
    "collapsed": false
   },
   "outputs": [
    {
     "name": "stdout",
     "output_type": "stream",
     "text": [
      "0.25\n"
     ]
    }
   ],
   "source": [
    "from math import sin,cos\n",
    "x = pi/4\n",
    "val_1 = (sin(x))**2*(cos(x))**2\n",
    "print val_1"
   ]
  },
  {
   "cell_type": "code",
   "execution_count": 18,
   "metadata": {
    "collapsed": false
   },
   "outputs": [
    {
     "name": "stdout",
     "output_type": "stream",
     "text": [
      "4.0\n"
     ]
    }
   ],
   "source": [
    "v0 = 3.0 #m/s\n",
    "t = 1 #s\n",
    "a =  2 #m/s**2\n",
    "s = v0*t + 0.5*a*t**2\n",
    "print s"
   ]
  },
  {
   "cell_type": "code",
   "execution_count": 24,
   "metadata": {
    "collapsed": false
   },
   "outputs": [
    {
     "name": "stdout",
     "output_type": "stream",
     "text": [
      "First equation: 73.96 = 73.96\n",
      "Second equation: 4 = 4\n"
     ]
    }
   ],
   "source": [
    "a,b = 3.3, 5.3\n",
    "a2 = a**2\n",
    "b2 = b**2\n",
    "\n",
    "eq1_sum = a2 + 2*a*b + b2\n",
    "eq2_sum = a2 - 2*a*b + b2\n",
    "\n",
    "eq1_pow = (a+b)**2\n",
    "eq2_pow = (a-b)**2\n",
    "\n",
    "print 'First equation: %g = %g' %(eq1_sum, eq1_pow)\n",
    "print 'Second equation: %g = %g' %(eq2_sum, eq2_pow)"
   ]
  },
  {
   "cell_type": "code",
   "execution_count": null,
   "metadata": {
    "collapsed": true
   },
   "outputs": [],
   "source": []
  }
 ],
 "metadata": {
  "kernelspec": {
   "display_name": "Python 2",
   "language": "python",
   "name": "python2"
  },
  "language_info": {
   "codemirror_mode": {
    "name": "ipython",
    "version": 2
   },
   "file_extension": ".py",
   "mimetype": "text/x-python",
   "name": "python",
   "nbconvert_exporter": "python",
   "pygments_lexer": "ipython2",
   "version": "2.7.12"
  }
 },
 "nbformat": 4,
 "nbformat_minor": 1
}
