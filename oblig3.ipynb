{
 "cells": [
  {
   "cell_type": "code",
   "execution_count": 9,
   "metadata": {
    "collapsed": true
   },
   "outputs": [],
   "source": [
    "# f2c_approx_table\n",
    "\n",
    "import numpy as np\n",
    "\n",
    "# trenger boka? eller no"
   ]
  },
  {
   "cell_type": "code",
   "execution_count": 34,
   "metadata": {
    "collapsed": false
   },
   "outputs": [
    {
     "name": "stdout",
     "output_type": "stream",
     "text": [
      "((-0.75+1.1989578808281798j), (-0.75-1.1989578808281798j))\n"
     ]
    }
   ],
   "source": [
    "# roots_quadratic\n",
    "\n",
    "from numpy.lib.scimath import sqrt\n",
    "\n",
    "def roots(a,b,c): \n",
    "    root1 = (-b + sqrt(b**2-4*a*c))/(2*a)\n",
    "    root2 = (-b - sqrt(b**2-4*a*c))/(2*a)\n",
    "          \n",
    "    return root1,root2\n",
    "          \n",
    "print roots(2,3,4)"
   ]
  },
  {
   "cell_type": "code",
   "execution_count": 56,
   "metadata": {
    "collapsed": false
   },
   "outputs": [],
   "source": [
    "# area_triangle\n",
    "\n",
    "\n",
    "def triangle_area(vertices):\n",
    "    A = 0.5*(vertices[1][0]*vertices[2][1]-vertices[2][0]*vertices[1][1]-vertices[0][0]*vertices[2][1] \\\n",
    "            + vertices[2][0]*vertices[0][1]+vertices[0][0]*vertices[1][1]-vertices[1][0]*vertices[0][1])\n",
    "\n",
    "    return A\n",
    "\n",
    "def test_triangle_area():\n",
    "    \n",
    "    v1 = (0,0); v2 = (1,0); v3 = (0,2);\n",
    "    vertices = [v1, v2, v3]\n",
    "    expected = 1\n",
    "    computed = triangle_area(vertices)\n",
    "    tol = 1E-14\n",
    "    success = np.diff(expected - computed) < tol\n",
    "    msg = 'computed area=%g != %g (expected)' % \\\n",
    "        (computed, expected) \n",
    "    assert success, msg\n",
    " "
   ]
  },
  {
   "cell_type": "code",
   "execution_count": 42,
   "metadata": {
    "collapsed": false
   },
   "outputs": [
    {
     "name": "stdout",
     "output_type": "stream",
     "text": [
      "0\n"
     ]
    }
   ],
   "source": []
  },
  {
   "cell_type": "code",
   "execution_count": null,
   "metadata": {
    "collapsed": true
   },
   "outputs": [],
   "source": []
  }
 ],
 "metadata": {
  "kernelspec": {
   "display_name": "Python 2",
   "language": "python",
   "name": "python2"
  },
  "language_info": {
   "codemirror_mode": {
    "name": "ipython",
    "version": 2
   },
   "file_extension": ".py",
   "mimetype": "text/x-python",
   "name": "python",
   "nbconvert_exporter": "python",
   "pygments_lexer": "ipython2",
   "version": "2.7.12"
  }
 },
 "nbformat": 4,
 "nbformat_minor": 1
}
