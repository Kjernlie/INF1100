{
 "cells": [
  {
   "cell_type": "code",
   "execution_count": 1,
   "metadata": {
    "collapsed": false
   },
   "outputs": [
    {
     "data": {
      "text/plain": [
       "0.07957747154594767"
      ]
     },
     "execution_count": 1,
     "metadata": {},
     "output_type": "execute_result"
    }
   ],
   "source": [
    "# 1.10\n",
    "# Evaluate the Gaussian function\n",
    "# Filename gaussian1\n",
    "\n",
    "from math import exp,pi\n",
    "m = 0\n",
    "s = 2\n",
    "x = 1\n",
    "\n",
    "def f(s,m,x):\n",
    "    return ((2*pi)*s)**(-1/2)*exp(-0.5*((x-m)/s)**2)\n",
    "\n",
    "f(s,m,x)"
   ]
  },
  {
   "cell_type": "code",
   "execution_count": 2,
   "metadata": {
    "collapsed": false
   },
   "outputs": [
    {
     "name": "stdout",
     "output_type": "stream",
     "text": [
      "The Drag force is 10.1 N for the fast case, and 0.6 N for the slow case. The gravitational force is 4.2 N\n"
     ]
    }
   ],
   "source": [
    "# 1.11\n",
    "# Evaluate the air resistance on a football\n",
    "# Filename kick\n",
    "\n",
    "# from math import pi\n",
    "\n",
    "g = 9.81 # m/s**2\n",
    "rho = 1.2 # kg / m**(-3)\n",
    "a = 11*10**(-2) # m\n",
    "m = 0.43 # kg\n",
    "C_d = 0.4 # dimensionless\n",
    "A = pi*a**2\n",
    "V1 = 120/3.6 # m/s\n",
    "V2 = 30/3.6 # m/s\n",
    "\n",
    "def F_d(C_d,rho,A,V):\n",
    "    return 0.5*C_d*rho*A*V**2\n",
    "\n",
    "def F_g(m,g):\n",
    "    return m*g\n",
    "\n",
    "F_d_slow = F_d(C_d,rho,A,V2)\n",
    "F_d_fast = F_d(C_d,rho,A,V1)\n",
    "F_g = F_g(m,g)\n",
    "\n",
    "print 'The Drag force is %.1f N for the fast case, and %.1f N for the slow case. The gravitational force is %.1f N' %(F_d_fast,F_d_slow,F_g)"
   ]
  },
  {
   "cell_type": "code",
   "execution_count": null,
   "metadata": {
    "collapsed": true
   },
   "outputs": [],
   "source": []
  }
 ],
 "metadata": {
  "kernelspec": {
   "display_name": "Python 2",
   "language": "python",
   "name": "python2"
  },
  "language_info": {
   "codemirror_mode": {
    "name": "ipython",
    "version": 2
   },
   "file_extension": ".py",
   "mimetype": "text/x-python",
   "name": "python",
   "nbconvert_exporter": "python",
   "pygments_lexer": "ipython2",
   "version": "2.7.12"
  }
 },
 "nbformat": 4,
 "nbformat_minor": 1
}
